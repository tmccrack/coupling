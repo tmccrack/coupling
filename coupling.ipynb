{
 "cells": [
  {
   "cell_type": "code",
   "execution_count": 1,
   "metadata": {
    "collapsed": false
   },
   "outputs": [],
   "source": [
    "import numpy as np\n",
    "from scipy.stats import norm\n",
    "\n",
    "def area_under_norm_dist(a, b, loc, fwhm):\n",
    "    # Returns area under normal distribution centered at loc with fwhm on boundary (a,b)\n",
    "    # calculates CDF(b) - CDF(a) \n",
    "    sigma = fwhm / (2.0*np.sqrt(2.0*np.log(2)))  # [pixels]\n",
    "    area = norm.cdf(b, loc, scale=sigma) - norm.cdf(a, loc, scale=sigma)\n",
    "    return area\n",
    "\n",
    "# Want to find photons per pixel for a given mode spacing\n",
    "# define fwhm in terms of pixels, set (a,b) to pixel boundaries\n",
    "\n"
   ]
  },
  {
   "cell_type": "markdown",
   "metadata": {
    "collapsed": true
   },
   "source": [
    "I want to find the number of photons per pixel to get a grasp on the SNR. A true PDF f_z(z) should integrate to 1 over -infinity to infinity. For the purpose of this, each mode will be treated as its own PDF. When a mode is propagated through the spectrograph, it is spread out by the SLSF of the spectrograph as determined by the plate factor. This can be thought of in how many times the resolution element is being sampled or pixel sampling. A number of modes for given FSRs will be 'sent through' the spectrograph and collected on the 'detector'. The result is then multiplied by the number of photons per mode.\n"
   ]
  },
  {
   "cell_type": "code",
   "execution_count": 4,
   "metadata": {
    "collapsed": false
   },
   "outputs": [
    {
     "name": "stderr",
     "output_type": "stream",
     "text": [
      "c:\\python27\\lib\\site-packages\\ipykernel\\__main__.py:45: DeprecationWarning: using a non-integer number instead of an integer will result in an error in the future\n",
      "c:\\python27\\lib\\site-packages\\ipykernel\\__main__.py:47: DeprecationWarning: using a non-integer number instead of an integer will result in an error in the future\n",
      "c:\\python27\\lib\\site-packages\\ipykernel\\__main__.py:63: DeprecationWarning: using a non-integer number instead of an integer will result in an error in the future\n"
     ]
    },
    {
     "name": "stdout",
     "output_type": "stream",
     "text": [
      "2.7433683186e-05 506.707479097 0.0314159265359 32429.2786622\n"
     ]
    },
    {
     "data": {
      "image/png": "[encoded data removed]",
      "text/plain": [
       "<matplotlib.figure.Figure at 0x131c3278>"
      ]
     },
     "metadata": {},
     "output_type": "display_data"
    }
   ],
   "source": [
    "%matplotlib inline\n",
    "\n",
    "import matplotlib\n",
    "import matplotlib.pylab as plt\n",
    "\n",
    "FSR = 14.0  # [GHz]\n",
    "R = 150000.0\n",
    "pixel_sampling = 4.0\n",
    "wavelength = np.array([400, 450, 521, 600, 700])  # [nm]\n",
    "plate_factor = wavelength /(pixel_sampling * R)\n",
    "# del_lamb = del_nu * lambda^2 / c\n",
    "# with lamba in [nm], del_nu in [GHz], c in [m s^-1], it all works out\n",
    "FSR_wav = FSR * wavelength**2 / 3e8\n",
    "\n",
    "#\n",
    "# LFC parameters\n",
    "#\n",
    "power_per_mode = 50.0e-9  # [W]\n",
    "hc_const = 1.98644582e-16  # Planck's constant * speed of light, [m^2 * nm * kg * s^-2], [W]\n",
    "\n",
    "#\n",
    "# Instrument parameters\n",
    "#\n",
    "instr_thruput = 0.03  # instrument throughput \n",
    "FWHM = 4.0  # pixel sampling\n",
    "sphere_diameter = 4.0  # [inches]\n",
    "fiber_diameter = 200  # [microns]\n",
    "number_ports = 4.0  # ports in integrating sphere, assume 0.5 inch diameter\n",
    "port_diameter = 0.5  # [inches]\n",
    "reflectance = 0.98  # inner sphere reflectance \n",
    "As = 4.0 * np.pi * (sphere_diameter*25.4/2.0)**2  # sphere area [mm^2]\n",
    "Ae = np.pi * (fiber_diameter*0.001/2.0)**2  # fiber area within sphere [mm^2]\n",
    "Ap = number_ports * np.pi * ((port_diameter*25.4)/2.0)**2  # total port area within sphere [mm^2]\n",
    "int_sphere = (Ae/As) / (1-reflectance*(1-(Ap/As)))   # integrating sphere throughput\n",
    "print int_sphere, Ap, Ae, As\n",
    "\n",
    "# E_ph = h * nu = h * c * lambda^-1\n",
    "# Photons per second = Power / E_ph\n",
    "Nphs = power_per_mode / (hc_const / wavelength)\n",
    "\n",
    "ind = 1  # wavelength selector\n",
    "n_pixels = 50.\n",
    "pixels = np.arange(0, n_pixels)\n",
    "loc = pixels * FSR_wav[ind] / plate_factor[ind]  # location of maximums\n",
    "det = np.zeros(n_pixels)\n",
    "for n in pixels:\n",
    "    det[n] = np.sum(area_under_norm_dist(n, n+1, loc, pixel_sampling))\n",
    "\n",
    "\n",
    "det *= Nphs[ind] * instr_thruput * int_sphere\n",
    "\n",
    "fig, axes = plt.subplots(nrows=2, ncols=1, figsize = (10, 10))\n",
    "title = \"%dnW @ %dnm, %d inch sphere, 1 second integration\" % (power_per_mode*1e9, wavelength[ind], sphere_diameter)\n",
    "axes[0].set_title(title, fontsize=14)\n",
    "\n",
    "axes[0].step(pixels, np.sqrt(det), 'k')\n",
    "axes[0].set_xlabel('pixel', size=14)\n",
    "plt.setp(axes[0].get_xticklabels(), fontsize=14)\n",
    "axes[0].set_ylabel('$\\sqrt{\\mathrm{electrons}}$', size=14)\n",
    "plt.setp(axes[0].get_yticklabels(), fontsize=14)\n",
    "axes[0].axis('tight')\n",
    "\n",
    "axes[1].imshow(det.reshape(1, n_pixels), cmap='gray', interpolation='none')\n",
    "axes[1].get_yaxis().set_visible(False)\n",
    "axes[1].get_xaxis().set_visible(False)\n",
    "plt.tight_layout()\n",
    "plt.savefig('LFCthroughput.pdf', format='pdf')\n",
    "\n"
   ]
  },
  {
   "cell_type": "code",
   "execution_count": null,
   "metadata": {
    "collapsed": true
   },
   "outputs": [],
   "source": []
  }
 ],
 "metadata": {
  "kernelspec": {
   "display_name": "Python 2",
   "language": "python",
   "name": "python2"
  },
  "language_info": {
   "codemirror_mode": {
    "name": "ipython",
    "version": 2
   },
   "file_extension": ".py",
   "mimetype": "text/x-python",
   "name": "python",
   "nbconvert_exporter": "python",
   "pygments_lexer": "ipython2",
   "version": "2.7.10"
  }
 },
 "nbformat": 4,
 "nbformat_minor": 0
}
